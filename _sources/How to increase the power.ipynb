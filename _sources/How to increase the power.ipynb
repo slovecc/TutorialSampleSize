{
 "cells": [
  {
   "cell_type": "markdown",
   "metadata": {},
   "source": [
    "# Power Analysis"
   ]
  },
  {
   "cell_type": "markdown",
   "metadata": {},
   "source": [
    "### Definition of power\n",
    "\n",
    "From the previous section we have introduced the statistical power of a binary hypothesis test as the probability that the test correctly rejects the null hypothesis ($ H_{0} $ ) when a specific alternative hypothesis ($ H_{A} $ ) is true. \n",
    "\n",
    "### Can we increase the power?\n",
    "\n",
    "It is clear that we would need a \"good\" power in the test in order to accept the $H_A$ hypthesis when it is true. \n",
    "\n",
    "In the nice article in [Ref 8](https://towardsdatascience.com/5-ways-to-increase-statistical-power-377c00dd0214) it is described clearly which are the factor that influence the power and can be modified in order to increase it. \n",
    "\n",
    "\n",
    "Here I will do a brief summary and show schematically some of those.\n"
   ]
  },
  {
   "cell_type": "markdown",
   "metadata": {},
   "source": [
    "#### Decrease the significativity\n",
    "If we increase the threshold for the significance level ($\\alpha$) we artificially increase the power of the test. This is strongly not recommended since the error type 1 will increase. The current value suggested for the significance is $95\\%$.\n",
    "\n",
    "#### 1 tails vs 2 tails\n",
    "\n",
    "If we move from 2 tails (figure left below) to 1 tail (figure right below), the vertical dashed line will be moved to the left increasing the power. This is because the critical p value for each tail is half of alpha, while the critical p equals alpha in a 1-tailed test.\n",
    "Whether the test is with 1 tail or 2, should be decided at the design phase of the test.\n",
    "\n",
    "\n",
    "```{figure} img/schema8.png\n",
    "---\n",
    "height: 400px\n",
    "name: log-figure\n",
    "---\n",
    "```"
   ]
  },
  {
   "cell_type": "markdown",
   "metadata": {},
   "source": [
    "#### Increase the difference \n",
    "Keeping constant all the other parameters, we could increase the power of the test if the mean difference (the distance between the null and alternative hypothesis) expected is increased.\n",
    "\n",
    "```{figure} img/schema9.png\n",
    "---\n",
    "height: 400px\n",
    "name: log-figure\n",
    "---\n",
    "```"
   ]
  },
  {
   "cell_type": "markdown",
   "metadata": {},
   "source": [
    "#### Decrease the sigma or increase the sample\n",
    "Another way to increase the power is to change the shape of the distribution. In particular we know that the sigma of the distribution is proportional to the standard deviation and inversely proportional to the sample size: \n",
    "\n",
    "$$\\sigma^{(p)} \\propto \\frac{\\sigma}{\\sqrt{N}}.$$ \n",
    "\n",
    "In this context the way to change the sigma would be either to change the KPI and take into account another metric with different standard deviation, either increase the sample size which is actually the most accurate way to influence the power and is what we are going to inspect in the next sessions.\n",
    "\n",
    "```{figure} img/schema10.png\n",
    "---\n",
    "height: 400px\n",
    "name: log-figure\n",
    "---\n",
    "```"
   ]
  }
 ],
 "metadata": {
  "kernelspec": {
   "display_name": "Python 3",
   "language": "python",
   "name": "python3"
  },
  "language_info": {
   "codemirror_mode": {
    "name": "ipython",
    "version": 3
   },
   "file_extension": ".py",
   "mimetype": "text/x-python",
   "name": "python",
   "nbconvert_exporter": "python",
   "pygments_lexer": "ipython3",
   "version": "3.8.5"
  }
 },
 "nbformat": 4,
 "nbformat_minor": 4
}
