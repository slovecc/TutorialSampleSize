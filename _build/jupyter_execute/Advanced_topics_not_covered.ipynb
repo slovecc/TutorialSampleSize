{
 "cells": [
  {
   "cell_type": "markdown",
   "metadata": {},
   "source": [
    "# Advanced Topic not covered"
   ]
  },
  {
   "cell_type": "markdown",
   "metadata": {},
   "source": [
    "This tutorial is far from being exhaustive. Below a first list of topics that are not covered:\n",
    "\n",
    "- $\\textbf{Correction for ABn test}$  ( Ref 9 : chapter 6 [book: Statistical methods by G.Z.Georgiev](https://www.abtestingstats.com/))\n",
    "In the case of ABn test, the sample size computation have to be adjusted in accordance to the strategy used to correct the pvalue. In fact, with more than 1 variant, the Type 1 increases and the type 1 error rate is called family-wise error rate (FWER): the  probability of falsely rejecting any of the pairwise null hypothesis if all are in fact true. \n",
    "There are different strategy to take into account this. Just a brief mention (from the most simple and conservative to the most accurate and advanced):\n",
    "\n",
    "    - Bonferroni correction : $ \\alpha_{adj}=\\alpha/m$ where m is the number of variants\n",
    "    - Holm-Bonferroni step-down methos \n",
    "    - Dunnet's correction: The Dunnet's correction is the most powerful one but it can involve some computational expensive simulation to be computed\n",
    "    \n",
    "- $\\textbf{Impact of returning users in the sample size final computation}$\n",
    "\n",
    "- $\\textbf{\"Conjoint\" Sample size for more than 1 variable}$ [[nice article]](https://towardsdatascience.com/the-third-ghost-of-experimentation-multiple-comparisons-65af360169a1)"
   ]
  }
 ],
 "metadata": {
  "kernelspec": {
   "display_name": "Python 3",
   "language": "python",
   "name": "python3"
  },
  "language_info": {
   "codemirror_mode": {
    "name": "ipython",
    "version": 3
   },
   "file_extension": ".py",
   "mimetype": "text/x-python",
   "name": "python",
   "nbconvert_exporter": "python",
   "pygments_lexer": "ipython3",
   "version": "3.8.5"
  }
 },
 "nbformat": 4,
 "nbformat_minor": 4
}